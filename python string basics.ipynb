{
 "cells": [
  {
   "cell_type": "code",
   "execution_count": 2,
   "id": "d89fc64c",
   "metadata": {},
   "outputs": [],
   "source": [
    "s= \"hu-di-tech youtube channel\""
   ]
  },
  {
   "cell_type": "code",
   "execution_count": 3,
   "id": "c3e4111d",
   "metadata": {},
   "outputs": [
    {
     "data": {
      "text/plain": [
       "str"
      ]
     },
     "execution_count": 3,
     "metadata": {},
     "output_type": "execute_result"
    }
   ],
   "source": [
    "type(s)"
   ]
  },
  {
   "cell_type": "code",
   "execution_count": 4,
   "id": "15f7abeb",
   "metadata": {},
   "outputs": [
    {
     "data": {
      "text/plain": [
       "'h'"
      ]
     },
     "execution_count": 4,
     "metadata": {},
     "output_type": "execute_result"
    }
   ],
   "source": [
    "#indexing\n",
    "s[0]"
   ]
  },
  {
   "cell_type": "code",
   "execution_count": 5,
   "id": "0ea1af00",
   "metadata": {},
   "outputs": [
    {
     "data": {
      "text/plain": [
       "'-'"
      ]
     },
     "execution_count": 5,
     "metadata": {},
     "output_type": "execute_result"
    }
   ],
   "source": [
    "s[2]"
   ]
  },
  {
   "cell_type": "code",
   "execution_count": 6,
   "id": "3244ceb2",
   "metadata": {},
   "outputs": [
    {
     "data": {
      "text/plain": [
       "'c'"
      ]
     },
     "execution_count": 6,
     "metadata": {},
     "output_type": "execute_result"
    }
   ],
   "source": [
    "s[8]"
   ]
  },
  {
   "cell_type": "code",
   "execution_count": 7,
   "id": "c99717a4",
   "metadata": {},
   "outputs": [
    {
     "data": {
      "text/plain": [
       "'u-di-te'"
      ]
     },
     "execution_count": 7,
     "metadata": {},
     "output_type": "execute_result"
    }
   ],
   "source": [
    "#index slicing\n",
    "s[1:8]"
   ]
  },
  {
   "cell_type": "code",
   "execution_count": 10,
   "id": "27d21cee",
   "metadata": {},
   "outputs": [
    {
     "data": {
      "text/plain": [
       "'ud-e'"
      ]
     },
     "execution_count": 10,
     "metadata": {},
     "output_type": "execute_result"
    }
   ],
   "source": [
    "#index sclicing and jumping\n",
    "s[1:8:2]"
   ]
  },
  {
   "cell_type": "code",
   "execution_count": 11,
   "id": "fbf52279",
   "metadata": {},
   "outputs": [
    {
     "data": {
      "text/plain": [
       "'hu-di-tech youtube channel'"
      ]
     },
     "execution_count": 11,
     "metadata": {},
     "output_type": "execute_result"
    }
   ],
   "source": [
    "s"
   ]
  },
  {
   "cell_type": "code",
   "execution_count": 18,
   "id": "a5aeafe8",
   "metadata": {},
   "outputs": [
    {
     "data": {
      "text/plain": [
       "'l'"
      ]
     },
     "execution_count": 18,
     "metadata": {},
     "output_type": "execute_result"
    }
   ],
   "source": [
    "#negative indexing\n",
    "s[-1]"
   ]
  },
  {
   "cell_type": "code",
   "execution_count": 19,
   "id": "ec412655",
   "metadata": {},
   "outputs": [
    {
     "data": {
      "text/plain": [
       "26"
      ]
     },
     "execution_count": 19,
     "metadata": {},
     "output_type": "execute_result"
    }
   ],
   "source": [
    "len(s)"
   ]
  },
  {
   "cell_type": "code",
   "execution_count": 20,
   "id": "397573af",
   "metadata": {},
   "outputs": [
    {
     "data": {
      "text/plain": [
       "'lennahc ebutuoy hcet-id-u'"
      ]
     },
     "execution_count": 20,
     "metadata": {},
     "output_type": "execute_result"
    }
   ],
   "source": [
    "s[25:0:-1]"
   ]
  },
  {
   "cell_type": "code",
   "execution_count": 22,
   "id": "c6d27bfd",
   "metadata": {},
   "outputs": [
    {
     "data": {
      "text/plain": [
       "'lennahc ebutuoy hcet-id-u'"
      ]
     },
     "execution_count": 22,
     "metadata": {},
     "output_type": "execute_result"
    }
   ],
   "source": [
    "s[26:0:-1]"
   ]
  },
  {
   "cell_type": "code",
   "execution_count": 25,
   "id": "75f5bf63",
   "metadata": {},
   "outputs": [
    {
     "data": {
      "text/plain": [
       "'hu-di-tech youtube channel'"
      ]
     },
     "execution_count": 25,
     "metadata": {},
     "output_type": "execute_result"
    }
   ],
   "source": [
    "s[0:26]"
   ]
  },
  {
   "cell_type": "code",
   "execution_count": 26,
   "id": "6b2ed214",
   "metadata": {},
   "outputs": [
    {
     "data": {
      "text/plain": [
       "'hu-di-tech youtube chan'"
      ]
     },
     "execution_count": 26,
     "metadata": {},
     "output_type": "execute_result"
    }
   ],
   "source": [
    "s[0:-3]"
   ]
  },
  {
   "cell_type": "code",
   "execution_count": 27,
   "id": "a681575e",
   "metadata": {},
   "outputs": [],
   "source": [
    "#////////////////////////////////////////////////////////////////////////////////////////////////////////////////////\n",
    "s1=\"sudarshan\""
   ]
  },
  {
   "cell_type": "code",
   "execution_count": 28,
   "id": "a2aec2ea",
   "metadata": {},
   "outputs": [
    {
     "data": {
      "text/plain": [
       "'sudarshan1'"
      ]
     },
     "execution_count": 28,
     "metadata": {},
     "output_type": "execute_result"
    }
   ],
   "source": [
    "s1+\"1\""
   ]
  },
  {
   "cell_type": "code",
   "execution_count": 29,
   "id": "409d16cf",
   "metadata": {},
   "outputs": [
    {
     "data": {
      "text/plain": [
       "'sudarshan23'"
      ]
     },
     "execution_count": 29,
     "metadata": {},
     "output_type": "execute_result"
    }
   ],
   "source": [
    "s1+str(23)"
   ]
  },
  {
   "cell_type": "code",
   "execution_count": 33,
   "id": "6dc15b5e",
   "metadata": {},
   "outputs": [
    {
     "data": {
      "text/plain": [
       "'sudarshansudarshan'"
      ]
     },
     "execution_count": 33,
     "metadata": {},
     "output_type": "execute_result"
    }
   ],
   "source": [
    "s1*2"
   ]
  },
  {
   "cell_type": "code",
   "execution_count": 34,
   "id": "b0def2e3",
   "metadata": {},
   "outputs": [
    {
     "data": {
      "text/plain": [
       "2"
      ]
     },
     "execution_count": 34,
     "metadata": {},
     "output_type": "execute_result"
    }
   ],
   "source": [
    "s1.count('s')"
   ]
  },
  {
   "cell_type": "code",
   "execution_count": 39,
   "id": "65cd206d",
   "metadata": {},
   "outputs": [
    {
     "data": {
      "text/plain": [
       "True"
      ]
     },
     "execution_count": 39,
     "metadata": {},
     "output_type": "execute_result"
    }
   ],
   "source": [
    "s1.islower()"
   ]
  },
  {
   "cell_type": "code",
   "execution_count": 42,
   "id": "dade36fc",
   "metadata": {},
   "outputs": [],
   "source": [
    "s2='12345'"
   ]
  },
  {
   "cell_type": "code",
   "execution_count": 43,
   "id": "265be009",
   "metadata": {},
   "outputs": [
    {
     "data": {
      "text/plain": [
       "True"
      ]
     },
     "execution_count": 43,
     "metadata": {},
     "output_type": "execute_result"
    }
   ],
   "source": [
    "s2.isdigit()"
   ]
  },
  {
   "cell_type": "code",
   "execution_count": 46,
   "id": "36d28d1e",
   "metadata": {},
   "outputs": [],
   "source": [
    "s3='1s234'"
   ]
  },
  {
   "cell_type": "code",
   "execution_count": 51,
   "id": "38f9ffd2",
   "metadata": {},
   "outputs": [
    {
     "data": {
      "text/plain": [
       "False"
      ]
     },
     "execution_count": 51,
     "metadata": {},
     "output_type": "execute_result"
    }
   ],
   "source": [
    "s3.isdigit()"
   ]
  },
  {
   "cell_type": "code",
   "execution_count": 52,
   "id": "f9780c59",
   "metadata": {},
   "outputs": [],
   "source": [
    "s5='Sudarshan'"
   ]
  },
  {
   "cell_type": "code",
   "execution_count": 53,
   "id": "e6e0985b",
   "metadata": {},
   "outputs": [
    {
     "data": {
      "text/plain": [
       "True"
      ]
     },
     "execution_count": 53,
     "metadata": {},
     "output_type": "execute_result"
    }
   ],
   "source": [
    "s5.isalpha()"
   ]
  },
  {
   "cell_type": "code",
   "execution_count": 54,
   "id": "995a2e6c",
   "metadata": {},
   "outputs": [
    {
     "data": {
      "text/plain": [
       "True"
      ]
     },
     "execution_count": 54,
     "metadata": {},
     "output_type": "execute_result"
    }
   ],
   "source": [
    "s5.isalnum()   #is alpha or numeric"
   ]
  },
  {
   "cell_type": "code",
   "execution_count": 55,
   "id": "df143cf1",
   "metadata": {},
   "outputs": [],
   "source": [
    "s6='12gg445'"
   ]
  },
  {
   "cell_type": "code",
   "execution_count": 56,
   "id": "f26f4dfc",
   "metadata": {},
   "outputs": [
    {
     "data": {
      "text/plain": [
       "False"
      ]
     },
     "execution_count": 56,
     "metadata": {},
     "output_type": "execute_result"
    }
   ],
   "source": [
    "s6.isalpha()"
   ]
  },
  {
   "cell_type": "code",
   "execution_count": 57,
   "id": "97c73c8f",
   "metadata": {},
   "outputs": [
    {
     "data": {
      "text/plain": [
       "'Sudarshan'"
      ]
     },
     "execution_count": 57,
     "metadata": {},
     "output_type": "execute_result"
    }
   ],
   "source": [
    "s5"
   ]
  },
  {
   "cell_type": "code",
   "execution_count": 58,
   "id": "d2b8ff21",
   "metadata": {},
   "outputs": [
    {
     "data": {
      "text/plain": [
       "False"
      ]
     },
     "execution_count": 58,
     "metadata": {},
     "output_type": "execute_result"
    }
   ],
   "source": [
    "s5.startswith('1')"
   ]
  },
  {
   "cell_type": "code",
   "execution_count": 59,
   "id": "2254a874",
   "metadata": {},
   "outputs": [
    {
     "data": {
      "text/plain": [
       "False"
      ]
     },
     "execution_count": 59,
     "metadata": {},
     "output_type": "execute_result"
    }
   ],
   "source": [
    "s5.startswith(\"s\")"
   ]
  },
  {
   "cell_type": "code",
   "execution_count": 60,
   "id": "149911f6",
   "metadata": {},
   "outputs": [
    {
     "data": {
      "text/plain": [
       "True"
      ]
     },
     "execution_count": 60,
     "metadata": {},
     "output_type": "execute_result"
    }
   ],
   "source": [
    "s5.startswith(\"S\")"
   ]
  },
  {
   "cell_type": "code",
   "execution_count": 61,
   "id": "ba935acf",
   "metadata": {},
   "outputs": [
    {
     "data": {
      "text/plain": [
       "True"
      ]
     },
     "execution_count": 61,
     "metadata": {},
     "output_type": "execute_result"
    }
   ],
   "source": [
    "s5.endswith('n')"
   ]
  },
  {
   "cell_type": "code",
   "execution_count": 81,
   "id": "a72e2e77",
   "metadata": {},
   "outputs": [
    {
     "data": {
      "text/plain": [
       "'@@@@@sudarshan@@@@@@'"
      ]
     },
     "execution_count": 81,
     "metadata": {},
     "output_type": "execute_result"
    }
   ],
   "source": [
    "s1.center(20, \"@\")"
   ]
  },
  {
   "cell_type": "code",
   "execution_count": 82,
   "id": "45eb71ca",
   "metadata": {},
   "outputs": [
    {
     "data": {
      "text/plain": [
       "'222222sudarshan2222222'"
      ]
     },
     "execution_count": 82,
     "metadata": {},
     "output_type": "execute_result"
    }
   ],
   "source": [
    "s1.center(22, \"2\")"
   ]
  },
  {
   "cell_type": "code",
   "execution_count": 85,
   "id": "b3ec1c05",
   "metadata": {},
   "outputs": [
    {
     "data": {
      "text/plain": [
       "<reversed at 0x21811cc0108>"
      ]
     },
     "execution_count": 85,
     "metadata": {},
     "output_type": "execute_result"
    }
   ],
   "source": [
    "s=\"sudarshan\"\n",
    "reversed(s)"
   ]
  },
  {
   "cell_type": "code",
   "execution_count": 86,
   "id": "f17527f4",
   "metadata": {},
   "outputs": [
    {
     "data": {
      "text/plain": [
       "'sdudddadrdsdhdadn'"
      ]
     },
     "execution_count": 86,
     "metadata": {},
     "output_type": "execute_result"
    }
   ],
   "source": [
    "'d'.join(s)"
   ]
  },
  {
   "cell_type": "code",
   "execution_count": 87,
   "id": "687bebbd",
   "metadata": {},
   "outputs": [
    {
     "data": {
      "text/plain": [
       "'hdus'"
      ]
     },
     "execution_count": 87,
     "metadata": {},
     "output_type": "execute_result"
    }
   ],
   "source": [
    "\"\".join(reversed(\"sudh\"))"
   ]
  },
  {
   "cell_type": "code",
   "execution_count": 97,
   "id": "03d5d844",
   "metadata": {},
   "outputs": [],
   "source": [
    "s= 'sudarshan\\tmestha\\t.com'"
   ]
  },
  {
   "cell_type": "code",
   "execution_count": 98,
   "id": "5de5b81e",
   "metadata": {},
   "outputs": [
    {
     "data": {
      "text/plain": [
       "'sudarshan       mestha  .com'"
      ]
     },
     "execution_count": 98,
     "metadata": {},
     "output_type": "execute_result"
    }
   ],
   "source": [
    "s.expandtabs()"
   ]
  }
 ],
 "metadata": {
  "kernelspec": {
   "display_name": "Python 3 (ipykernel)",
   "language": "python",
   "name": "python3"
  },
  "language_info": {
   "codemirror_mode": {
    "name": "ipython",
    "version": 3
   },
   "file_extension": ".py",
   "mimetype": "text/x-python",
   "name": "python",
   "nbconvert_exporter": "python",
   "pygments_lexer": "ipython3",
   "version": "3.7.8"
  }
 },
 "nbformat": 4,
 "nbformat_minor": 5
}
